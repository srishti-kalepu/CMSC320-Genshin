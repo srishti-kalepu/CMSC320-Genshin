{
 "cells": [
  {
   "cell_type": "code",
   "execution_count": 42,
   "id": "e0425878",
   "metadata": {},
   "outputs": [],
   "source": [
    "#!pip install --ignore-installed --upgrade tensorflow --user\n",
    "#!pip install opencv-python\n",
    "#!pip install --upgrade albumentations --user"
   ]
  },
  {
   "cell_type": "code",
   "execution_count": 43,
   "id": "810fbd9e",
   "metadata": {},
   "outputs": [],
   "source": [
    "import pandas as pd\n",
    "import numpy as np\n",
    "from tensorflow.keras.applications import vgg19\n",
    "import albumentations as A # used for image augmentation\n",
    "from PIL import Image #used for importing images\n",
    "import re\n",
    "import os,glob\n",
    "import cv2\n",
    "import matplotlib.pyplot as plt"
   ]
  },
  {
   "cell_type": "code",
   "execution_count": 44,
   "id": "07cfa87d",
   "metadata": {},
   "outputs": [
    {
     "data": {
      "text/html": [
       "<div>\n",
       "<style scoped>\n",
       "    .dataframe tbody tr th:only-of-type {\n",
       "        vertical-align: middle;\n",
       "    }\n",
       "\n",
       "    .dataframe tbody tr th {\n",
       "        vertical-align: top;\n",
       "    }\n",
       "\n",
       "    .dataframe thead th {\n",
       "        text-align: right;\n",
       "    }\n",
       "</style>\n",
       "<table border=\"1\" class=\"dataframe\">\n",
       "  <thead>\n",
       "    <tr style=\"text-align: right;\">\n",
       "      <th></th>\n",
       "      <th>Name</th>\n",
       "      <th>Model</th>\n",
       "      <th>Region</th>\n",
       "      <th>Vision</th>\n",
       "      <th>Weapon</th>\n",
       "      <th>Revenue</th>\n",
       "      <th>Year Released</th>\n",
       "    </tr>\n",
       "  </thead>\n",
       "  <tbody>\n",
       "    <tr>\n",
       "      <th>0</th>\n",
       "      <td>Albedo</td>\n",
       "      <td>https://i.postimg.cc/vHqgw9cj/unnamed.jpg</td>\n",
       "      <td>Mondstadt</td>\n",
       "      <td>Geo</td>\n",
       "      <td>Sword</td>\n",
       "      <td>$11,816,107</td>\n",
       "      <td>2021</td>\n",
       "    </tr>\n",
       "    <tr>\n",
       "      <th>1</th>\n",
       "      <td>Ayaka</td>\n",
       "      <td>https://i.postimg.cc/mZP9x58Q/ayaka.jpg</td>\n",
       "      <td>Inazuma</td>\n",
       "      <td>Cryo</td>\n",
       "      <td>Sword</td>\n",
       "      <td>$16,451,006</td>\n",
       "      <td>2021</td>\n",
       "    </tr>\n",
       "    <tr>\n",
       "      <th>2</th>\n",
       "      <td>Ayato</td>\n",
       "      <td>https://i.postimg.cc/3JpDNDMN/ayato.jpg</td>\n",
       "      <td>Inazuma</td>\n",
       "      <td>Hydro</td>\n",
       "      <td>Sword</td>\n",
       "      <td>$14,481,796</td>\n",
       "      <td>2022</td>\n",
       "    </tr>\n",
       "    <tr>\n",
       "      <th>3</th>\n",
       "      <td>Childe (Tartaglia)</td>\n",
       "      <td>https://i.postimg.cc/RZBJHV9R/childe.jpg</td>\n",
       "      <td>Liyue</td>\n",
       "      <td>Hydro</td>\n",
       "      <td>Bow</td>\n",
       "      <td>$13,443,619</td>\n",
       "      <td>2020</td>\n",
       "    </tr>\n",
       "    <tr>\n",
       "      <th>4</th>\n",
       "      <td>Cyno</td>\n",
       "      <td>https://i.postimg.cc/bNHN40cx/cyno.jpg</td>\n",
       "      <td>Sumeru</td>\n",
       "      <td>Electro</td>\n",
       "      <td>Polearm</td>\n",
       "      <td>$13,797,833</td>\n",
       "      <td>2022</td>\n",
       "    </tr>\n",
       "  </tbody>\n",
       "</table>\n",
       "</div>"
      ],
      "text/plain": [
       "                 Name                                      Model     Region  \\\n",
       "0              Albedo  https://i.postimg.cc/vHqgw9cj/unnamed.jpg  Mondstadt   \n",
       "1               Ayaka    https://i.postimg.cc/mZP9x58Q/ayaka.jpg    Inazuma   \n",
       "2               Ayato    https://i.postimg.cc/3JpDNDMN/ayato.jpg    Inazuma   \n",
       "3  Childe (Tartaglia)   https://i.postimg.cc/RZBJHV9R/childe.jpg      Liyue   \n",
       "4                Cyno     https://i.postimg.cc/bNHN40cx/cyno.jpg     Sumeru   \n",
       "\n",
       "    Vision   Weapon      Revenue  Year Released  \n",
       "0      Geo    Sword  $11,816,107           2021  \n",
       "1     Cryo    Sword  $16,451,006           2021  \n",
       "2    Hydro    Sword  $14,481,796           2022  \n",
       "3    Hydro      Bow  $13,443,619           2020  \n",
       "4  Electro  Polearm  $13,797,833           2022  "
      ]
     },
     "execution_count": 44,
     "metadata": {},
     "output_type": "execute_result"
    }
   ],
   "source": [
    "data = pd.read_csv('./Genshin_Dataset.csv')\n",
    "data.head()"
   ]
  },
  {
   "cell_type": "code",
   "execution_count": 45,
   "id": "c3b2d1ce",
   "metadata": {},
   "outputs": [],
   "source": [
    "# given the filepath to the image, we can visualize the image\n",
    "def visualize(image):\n",
    "    plt.figure(figsize=(10, 10))\n",
    "    plt.axis('off')\n",
    "    plt.imshow(image)"
   ]
  },
  {
   "cell_type": "code",
   "execution_count": 47,
   "id": "e93f7328",
   "metadata": {},
   "outputs": [],
   "source": [
    "# iterates over the character images in the folder \n",
    "# returns a tuple where the 3rd element is a list of the character names\n",
    "for e_image in os.walk('./Genshin Characters/'):\n",
    "    #print(e_image)\n",
    "    \n",
    "    # iterates over the list of the character names\n",
    "    for img_name in e_image[2]:\n",
    "        file_path = './Genshin Characters/{}'.format(img_name)\n",
    "        image = cv2.imread(file_path)\n",
    "        image = cv2.cvtColor(image, cv2.COLOR_BGR2RGB)\n",
    "        #visualize(image) "
   ]
  },
  {
   "cell_type": "code",
   "execution_count": null,
   "id": "14fd7449",
   "metadata": {},
   "outputs": [],
   "source": []
  }
 ],
 "metadata": {
  "kernelspec": {
   "display_name": "Python 3 (ipykernel)",
   "language": "python",
   "name": "python3"
  },
  "language_info": {
   "codemirror_mode": {
    "name": "ipython",
    "version": 3
   },
   "file_extension": ".py",
   "mimetype": "text/x-python",
   "name": "python",
   "nbconvert_exporter": "python",
   "pygments_lexer": "ipython3",
   "version": "3.9.13"
  }
 },
 "nbformat": 4,
 "nbformat_minor": 5
}
