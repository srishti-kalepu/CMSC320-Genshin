{
 "cells": [
  {
   "cell_type": "code",
   "execution_count": 19,
   "id": "e0425878",
   "metadata": {},
   "outputs": [],
   "source": [
    "#%pip install --ignore-installed --upgrade tensorflow \n",
    "#%pip install opencv-python\n",
    "#%pip install --upgrade albumentations --user\n",
    "#%pip install pandas\n",
    "#%pip install numpy\n",
    "#%pip install matplotlib\n"
   ]
  },
  {
   "cell_type": "code",
   "execution_count": 20,
   "id": "810fbd9e",
   "metadata": {},
   "outputs": [],
   "source": [
    "import pandas as pd\n",
    "import numpy as np\n",
    "from tensorflow.keras.applications import vgg19\n",
    "import albumentations as A # used for image augmentation\n",
    "from PIL import Image #used for importing images\n",
    "import re\n",
    "import os,glob\n",
    "import cv2\n",
    "import matplotlib.pyplot as plt"
   ]
  },
  {
   "cell_type": "code",
   "execution_count": 21,
   "id": "07cfa87d",
   "metadata": {},
   "outputs": [
    {
     "data": {
      "text/html": [
       "<div>\n",
       "<style scoped>\n",
       "    .dataframe tbody tr th:only-of-type {\n",
       "        vertical-align: middle;\n",
       "    }\n",
       "\n",
       "    .dataframe tbody tr th {\n",
       "        vertical-align: top;\n",
       "    }\n",
       "\n",
       "    .dataframe thead th {\n",
       "        text-align: right;\n",
       "    }\n",
       "</style>\n",
       "<table border=\"1\" class=\"dataframe\">\n",
       "  <thead>\n",
       "    <tr style=\"text-align: right;\">\n",
       "      <th></th>\n",
       "      <th>Name</th>\n",
       "      <th>Model</th>\n",
       "      <th>Region</th>\n",
       "      <th>Vision</th>\n",
       "      <th>Weapon</th>\n",
       "      <th>Revenue</th>\n",
       "      <th>Year Released</th>\n",
       "    </tr>\n",
       "  </thead>\n",
       "  <tbody>\n",
       "    <tr>\n",
       "      <th>0</th>\n",
       "      <td>Albedo</td>\n",
       "      <td>https://i.postimg.cc/vHqgw9cj/unnamed.jpg</td>\n",
       "      <td>Mondstadt</td>\n",
       "      <td>Geo</td>\n",
       "      <td>Sword</td>\n",
       "      <td>$11,816,107</td>\n",
       "      <td>2021</td>\n",
       "    </tr>\n",
       "    <tr>\n",
       "      <th>1</th>\n",
       "      <td>Ayaka</td>\n",
       "      <td>https://i.postimg.cc/mZP9x58Q/ayaka.jpg</td>\n",
       "      <td>Inazuma</td>\n",
       "      <td>Cryo</td>\n",
       "      <td>Sword</td>\n",
       "      <td>$16,451,006</td>\n",
       "      <td>2021</td>\n",
       "    </tr>\n",
       "    <tr>\n",
       "      <th>2</th>\n",
       "      <td>Ayato</td>\n",
       "      <td>https://i.postimg.cc/3JpDNDMN/ayato.jpg</td>\n",
       "      <td>Inazuma</td>\n",
       "      <td>Hydro</td>\n",
       "      <td>Sword</td>\n",
       "      <td>$14,481,796</td>\n",
       "      <td>2022</td>\n",
       "    </tr>\n",
       "    <tr>\n",
       "      <th>3</th>\n",
       "      <td>Childe (Tartaglia)</td>\n",
       "      <td>https://i.postimg.cc/RZBJHV9R/childe.jpg</td>\n",
       "      <td>Liyue</td>\n",
       "      <td>Hydro</td>\n",
       "      <td>Bow</td>\n",
       "      <td>$13,443,619</td>\n",
       "      <td>2020</td>\n",
       "    </tr>\n",
       "    <tr>\n",
       "      <th>4</th>\n",
       "      <td>Cyno</td>\n",
       "      <td>https://i.postimg.cc/bNHN40cx/cyno.jpg</td>\n",
       "      <td>Sumeru</td>\n",
       "      <td>Electro</td>\n",
       "      <td>Polearm</td>\n",
       "      <td>$13,797,833</td>\n",
       "      <td>2022</td>\n",
       "    </tr>\n",
       "  </tbody>\n",
       "</table>\n",
       "</div>"
      ],
      "text/plain": [
       "                 Name                                      Model     Region  \\\n",
       "0              Albedo  https://i.postimg.cc/vHqgw9cj/unnamed.jpg  Mondstadt   \n",
       "1               Ayaka    https://i.postimg.cc/mZP9x58Q/ayaka.jpg    Inazuma   \n",
       "2               Ayato    https://i.postimg.cc/3JpDNDMN/ayato.jpg    Inazuma   \n",
       "3  Childe (Tartaglia)   https://i.postimg.cc/RZBJHV9R/childe.jpg      Liyue   \n",
       "4                Cyno     https://i.postimg.cc/bNHN40cx/cyno.jpg     Sumeru   \n",
       "\n",
       "    Vision   Weapon      Revenue  Year Released  \n",
       "0      Geo    Sword  $11,816,107           2021  \n",
       "1     Cryo    Sword  $16,451,006           2021  \n",
       "2    Hydro    Sword  $14,481,796           2022  \n",
       "3    Hydro      Bow  $13,443,619           2020  \n",
       "4  Electro  Polearm  $13,797,833           2022  "
      ]
     },
     "execution_count": 21,
     "metadata": {},
     "output_type": "execute_result"
    }
   ],
   "source": [
    "data = pd.read_csv('./Genshin_Dataset.csv')\n",
    "data.head()"
   ]
  },
  {
   "cell_type": "code",
   "execution_count": 22,
   "id": "c3b2d1ce",
   "metadata": {},
   "outputs": [],
   "source": [
    "# given the filepath to the image, we can visualize the image\n",
    "def visualize(image):\n",
    "    plt.figure(figsize=(10, 10))\n",
    "    plt.axis('off')\n",
    "    plt.imshow(image)"
   ]
  },
  {
   "cell_type": "code",
   "execution_count": 23,
   "id": "27b6e16a",
   "metadata": {},
   "outputs": [],
   "source": [
    "# transformations\n",
    "vertical_transform = A.Compose([A.VerticalFlip(p=1)])\n",
    "horizontal_transform = A.Compose([A.HorizontalFlip(p=1)])\n",
    "#clahe_transform = A.Compose([A.CLAHE(p=1)]) # enhances the picture's contrast and brightness\n"
   ]
  },
  {
   "cell_type": "code",
   "execution_count": 24,
   "id": "e93f7328",
   "metadata": {},
   "outputs": [],
   "source": [
    "# iterates over the character images in the folder \n",
    "# returns a tuple where the 3rd element is a list of the character names\n",
    "images_arr = []\n",
    "for e_image in os.walk('./Genshin Characters/'):\n",
    "    #print(e_image)\n",
    "\n",
    "    # iterates over the list of the character names\n",
    "    for img_name in e_image[2]:\n",
    "        curr = []\n",
    "        file_path = './Genshin Characters/{}'.format(img_name)\n",
    "        image = cv2.imread(file_path)\n",
    "        image = cv2.cvtColor(image, cv2.COLOR_BGR2RGB)\n",
    "        curr.append(image)\n",
    "        # transform function takes in the image as the parameter\n",
    "        # the output is a dictionary with 'image' as the key and the transformed image as the value\n",
    "        # so, we extract the value by giving it the key\n",
    "        vertical_image = vertical_transform(image=image)['image'] \n",
    "        horizontal_image = horizontal_transform(image=image)['image']\n",
    "        both_image = horizontal_transform(image=vertical_image)['image']\n",
    "        #clahe_image = clahe_transform(image=image)['image']\n",
    "        #visualize(image) \n",
    "        #visualize(vertical_image)\n",
    "        #visualize(horizontal_image)\n",
    "        #visualize(both_image)\n",
    "        #visualize(clahe_image)\n",
    "        curr.append(vertical_image)\n",
    "        curr.append(horizontal_image)\n",
    "        curr.append(both_image)\n",
    "        images_arr.append(curr)\n",
    "    \n",
    "\n"
   ]
  },
  {
   "cell_type": "code",
   "execution_count": 27,
   "id": "14fd7449",
   "metadata": {},
   "outputs": [
    {
     "data": {
      "text/plain": [
       "0     11816107\n",
       "1     16451006\n",
       "2     14481796\n",
       "3     13443619\n",
       "4     13797833\n",
       "5     12619390\n",
       "6     15669918\n",
       "7     12481634\n",
       "8     13404072\n",
       "9      9807112\n",
       "10     9505798\n",
       "11    22750080\n",
       "12     7020975\n",
       "13    29940345\n",
       "14    12148301\n",
       "15    33020905\n",
       "16     6825814\n",
       "17     7745505\n",
       "18    30632752\n",
       "19    13145115\n",
       "20    15110264\n",
       "21    23302462\n",
       "22     8615144\n",
       "23    16264892\n",
       "Name: Revenue, dtype: int64"
      ]
     },
     "execution_count": 27,
     "metadata": {},
     "output_type": "execute_result"
    }
   ],
   "source": [
    "revenues = data['Revenue']\n",
    "revenues.map(lambda x: int(re.sub(\",\", \"\", x[1:]))) # removes $ and commas from the revenue"
   ]
  }
 ],
 "metadata": {
  "kernelspec": {
   "display_name": "Python 3.10.5 64-bit",
   "language": "python",
   "name": "python3"
  },
  "language_info": {
   "codemirror_mode": {
    "name": "ipython",
    "version": 3
   },
   "file_extension": ".py",
   "mimetype": "text/x-python",
   "name": "python",
   "nbconvert_exporter": "python",
   "pygments_lexer": "ipython3",
   "version": "3.10.5"
  },
  "vscode": {
   "interpreter": {
    "hash": "1af2ab16b1a3a40328f305e50c95b28c2b6b44b66386a6d1e962276a7fd39f3a"
   }
  }
 },
 "nbformat": 4,
 "nbformat_minor": 5
}
