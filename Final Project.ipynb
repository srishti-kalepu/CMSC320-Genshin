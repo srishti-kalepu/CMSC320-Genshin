{
 "cells": [
  {
   "cell_type": "code",
   "execution_count": null,
   "id": "e0425878",
   "metadata": {},
   "outputs": [],
   "source": [
    "#!pip install --ignore-installed --upgrade tensorflow --user\n",
    "#!pip install opencv-python\n",
    "#!pip install --upgrade albumentations --user"
   ]
  },
  {
   "cell_type": "code",
   "execution_count": null,
   "id": "810fbd9e",
   "metadata": {},
   "outputs": [],
   "source": [
    "import pandas as pd\n",
    "import numpy as np\n",
    "from tensorflow.keras.applications import vgg19\n",
    "import albumentations as A # used for image augmentation\n",
    "from PIL import Image #used for importing images\n",
    "import re\n",
    "import os,glob\n",
    "import cv2\n",
    "import matplotlib.pyplot as plt"
   ]
  },
  {
   "cell_type": "code",
   "execution_count": null,
   "id": "07cfa87d",
   "metadata": {},
   "outputs": [],
   "source": [
    "data = pd.read_csv('./Genshin_Dataset.csv')\n",
    "data.head()"
   ]
  },
  {
   "cell_type": "code",
   "execution_count": null,
   "id": "c3b2d1ce",
   "metadata": {},
   "outputs": [],
   "source": [
    "# given the filepath to the image, we can visualize the image\n",
    "def visualize(image):\n",
    "    plt.figure(figsize=(10, 10))\n",
    "    plt.axis('off')\n",
    "    plt.imshow(image)"
   ]
  },
  {
   "cell_type": "code",
   "execution_count": null,
   "id": "27b6e16a",
   "metadata": {},
   "outputs": [],
   "source": [
    "# transformations\n",
    "vertical_transform = A.Compose([A.VerticalFlip(p=1)])\n",
    "horizontal_transform = A.Compose([A.HorizontalFlip(p=1)])\n",
    "both_transform = A.Compose([A.VerticalFlip(p=1), A.HorizontalFlip(p=1)])"
   ]
  },
  {
   "cell_type": "code",
   "execution_count": null,
   "id": "e93f7328",
   "metadata": {},
   "outputs": [],
   "source": [
    "# iterates over the character images in the folder \n",
    "# returns a tuple where the 3rd element is a list of the character names\n",
    "images_arr = []\n",
    "for e_image in os.walk('./Genshin Characters/'):\n",
    "    #print(e_image)\n",
    "\n",
    "    # iterates over the list of the character names\n",
    "    for img_name in e_image[2]:\n",
    "        curr = []\n",
    "        file_path = './Genshin Characters/{}'.format(img_name)\n",
    "        image = cv2.imread(file_path)\n",
    "        image = cv2.cvtColor(image, cv2.COLOR_BGR2RGB)\n",
    "        curr.append(image)\n",
    "        #a1 = # augmentation 1 = \n",
    "        #visualize(image) "
   ]
  },
  {
   "cell_type": "code",
   "execution_count": null,
   "id": "14fd7449",
   "metadata": {},
   "outputs": [],
   "source": []
  }
 ],
 "metadata": {
  "kernelspec": {
   "display_name": "Python 3.9.1 64-bit",
   "language": "python",
   "name": "python3"
  },
  "language_info": {
   "codemirror_mode": {
    "name": "ipython",
    "version": 3
   },
   "file_extension": ".py",
   "mimetype": "text/x-python",
   "name": "python",
   "nbconvert_exporter": "python",
   "pygments_lexer": "ipython3",
   "version": "3.9.1"
  },
  "vscode": {
   "interpreter": {
    "hash": "d1dbff4dcc8591eed3d1f261c6d976d427ead2a14b908c023f70f934e288820f"
   }
  }
 },
 "nbformat": 4,
 "nbformat_minor": 5
}
